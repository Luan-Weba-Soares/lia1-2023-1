{
 "cells": [
  {
   "cell_type": "markdown",
   "id": "d307105c",
   "metadata": {
    "id": "jZwEhEZqrV7g",
    "papermill": {
     "duration": 0.009633,
     "end_time": "2023-05-03T13:24:06.923798",
     "exception": false,
     "start_time": "2023-05-03T13:24:06.914165",
     "status": "completed"
    },
    "tags": []
   },
   "source": [
    "<hr style=\"height:10px\"> \n",
    " \n",
    "<div class='container2'>\n",
    "\t\t<div>\n",
    "\t\t\t<img src='/content/drive/MyDrive/Automação/Imagem/Logomarca.gif' ALIGN='left' style='width:10em'>\n",
    "\t\t</div>\t\n",
    "\t<div style='padding: 0 7em 2em 12em;'>\n",
    "\t<h1>Laboratório de Inovação e Automação 1 (LIA 1)</h1>\n",
    "\t<div style=\"font-size:12pt;float:left;\"> 2023/1 | 46M34 | Sala 200 CAE</div><br><br>\n",
    "    <div style=\"font-size:12pt;float:left;\"><b>Projetos de Inteligência Artificial</b></div>\n",
    "\t</div>\n",
    "</div>\n",
    "\n",
    "\n",
    " <hr style=\"height:5px\"> \n",
    "\n",
    "    \n",
    "<h2>Introdução ao Ambiente de Projetos - Python</h2>\n",
    "\n",
    "Notebook desenvolvido por: <a href=\"http://lattes.cnpq.br/1346824250595330\">Prof. Dr. Adriano C. Santana</a>\n",
    "\n",
    " <hr style=\"height:2px\"> \n"
   ]
  },
  {
   "cell_type": "code",
   "execution_count": 1,
   "id": "532f9b7f",
   "metadata": {
    "execution": {
     "iopub.execute_input": "2023-05-03T13:24:06.940178Z",
     "iopub.status.busy": "2023-05-03T13:24:06.939380Z",
     "iopub.status.idle": "2023-05-03T13:24:06.953202Z",
     "shell.execute_reply": "2023-05-03T13:24:06.951474Z"
    },
    "executionInfo": {
     "elapsed": 540,
     "status": "ok",
     "timestamp": 1683116188183,
     "user": {
      "displayName": "LUAN WEBA SOARES",
      "userId": "17271118908107680380"
     },
     "user_tz": 180
    },
    "id": "FljZ_QzBilT2",
    "outputId": "6dbfe320-0745-41fc-fac5-06801bcb79d0",
    "papermill": {
     "duration": 0.02413,
     "end_time": "2023-05-03T13:24:06.955472",
     "exception": false,
     "start_time": "2023-05-03T13:24:06.931342",
     "status": "completed"
    },
    "tags": []
   },
   "outputs": [
    {
     "name": "stdout",
     "output_type": "stream",
     "text": [
      "A versão em uso é 3.10.10.\n"
     ]
    }
   ],
   "source": [
    "from platform import python_version\n",
    "print(f'A versão em uso é {python_version()}.')"
   ]
  },
  {
   "cell_type": "code",
   "execution_count": 2,
   "id": "d10c1530",
   "metadata": {
    "execution": {
     "iopub.execute_input": "2023-05-03T13:24:06.971964Z",
     "iopub.status.busy": "2023-05-03T13:24:06.971148Z",
     "iopub.status.idle": "2023-05-03T13:24:06.977146Z",
     "shell.execute_reply": "2023-05-03T13:24:06.975761Z"
    },
    "executionInfo": {
     "elapsed": 1182,
     "status": "ok",
     "timestamp": 1683116193049,
     "user": {
      "displayName": "LUAN WEBA SOARES",
      "userId": "17271118908107680380"
     },
     "user_tz": 180
    },
    "id": "e5HvkLZliqck",
    "outputId": "de825921-d62e-4285-8ada-cdd7809c01de",
    "papermill": {
     "duration": 0.016587,
     "end_time": "2023-05-03T13:24:06.979169",
     "exception": false,
     "start_time": "2023-05-03T13:24:06.962582",
     "status": "completed"
    },
    "tags": []
   },
   "outputs": [
    {
     "name": "stdout",
     "output_type": "stream",
     "text": [
      "Bye bye, World!\n"
     ]
    }
   ],
   "source": [
    "# Verificar se o Python está funcionando\n",
    "print('Bye bye, World!')"
   ]
  },
  {
   "cell_type": "markdown",
   "id": "09edcc26",
   "metadata": {
    "id": "zRjA_R-287uJ",
    "papermill": {
     "duration": 0.006816,
     "end_time": "2023-05-03T13:24:06.992959",
     "exception": false,
     "start_time": "2023-05-03T13:24:06.986143",
     "status": "completed"
    },
    "tags": []
   },
   "source": [
    "# Operadores Aritiméticos"
   ]
  },
  {
   "cell_type": "code",
   "execution_count": 3,
   "id": "88b2ec2f",
   "metadata": {
    "execution": {
     "iopub.execute_input": "2023-05-03T13:24:07.009550Z",
     "iopub.status.busy": "2023-05-03T13:24:07.008643Z",
     "iopub.status.idle": "2023-05-03T13:24:07.016752Z",
     "shell.execute_reply": "2023-05-03T13:24:07.015719Z"
    },
    "executionInfo": {
     "elapsed": 8,
     "status": "ok",
     "timestamp": 1682686896503,
     "user": {
      "displayName": "LUAN WEBA SOARES",
      "userId": "17271118908107680380"
     },
     "user_tz": 180
    },
    "id": "aoNa8Ywv8-XE",
    "outputId": "863f72cb-ce24-495f-ae29-416150a73b29",
    "papermill": {
     "duration": 0.019189,
     "end_time": "2023-05-03T13:24:07.019064",
     "exception": false,
     "start_time": "2023-05-03T13:24:06.999875",
     "status": "completed"
    },
    "tags": []
   },
   "outputs": [
    {
     "data": {
      "text/plain": [
       "2"
      ]
     },
     "execution_count": 3,
     "metadata": {},
     "output_type": "execute_result"
    }
   ],
   "source": [
    "# Adição\n",
    "1 + 1"
   ]
  },
  {
   "cell_type": "code",
   "execution_count": 4,
   "id": "30123e72",
   "metadata": {
    "execution": {
     "iopub.execute_input": "2023-05-03T13:24:07.037099Z",
     "iopub.status.busy": "2023-05-03T13:24:07.036168Z",
     "iopub.status.idle": "2023-05-03T13:24:07.043063Z",
     "shell.execute_reply": "2023-05-03T13:24:07.041840Z"
    },
    "executionInfo": {
     "elapsed": 6,
     "status": "ok",
     "timestamp": 1682686899572,
     "user": {
      "displayName": "LUAN WEBA SOARES",
      "userId": "17271118908107680380"
     },
     "user_tz": 180
    },
    "id": "JhlL6wZi9B-k",
    "outputId": "dcf6b33e-df2a-4e2e-eccb-069ff1e1a7a7",
    "papermill": {
     "duration": 0.018683,
     "end_time": "2023-05-03T13:24:07.045572",
     "exception": false,
     "start_time": "2023-05-03T13:24:07.026889",
     "status": "completed"
    },
    "tags": []
   },
   "outputs": [
    {
     "data": {
      "text/plain": [
       "1"
      ]
     },
     "execution_count": 4,
     "metadata": {},
     "output_type": "execute_result"
    }
   ],
   "source": [
    "# Subtração\n",
    "2 - 1"
   ]
  },
  {
   "cell_type": "code",
   "execution_count": 5,
   "id": "fbf17dbc",
   "metadata": {
    "execution": {
     "iopub.execute_input": "2023-05-03T13:24:07.063284Z",
     "iopub.status.busy": "2023-05-03T13:24:07.062379Z",
     "iopub.status.idle": "2023-05-03T13:24:07.075214Z",
     "shell.execute_reply": "2023-05-03T13:24:07.074006Z"
    },
    "executionInfo": {
     "elapsed": 6,
     "status": "ok",
     "timestamp": 1682686913529,
     "user": {
      "displayName": "LUAN WEBA SOARES",
      "userId": "17271118908107680380"
     },
     "user_tz": 180
    },
    "id": "uSKWBMol9De0",
    "outputId": "81110478-d6fc-4aec-9fac-dfd3a1ec07f8",
    "papermill": {
     "duration": 0.024813,
     "end_time": "2023-05-03T13:24:07.077975",
     "exception": false,
     "start_time": "2023-05-03T13:24:07.053162",
     "status": "completed"
    },
    "tags": []
   },
   "outputs": [
    {
     "data": {
      "text/plain": [
       "4"
      ]
     },
     "execution_count": 5,
     "metadata": {},
     "output_type": "execute_result"
    }
   ],
   "source": [
    "# Multiplacação\n",
    "2*2"
   ]
  },
  {
   "cell_type": "code",
   "execution_count": 6,
   "id": "d1f86aa1",
   "metadata": {
    "execution": {
     "iopub.execute_input": "2023-05-03T13:24:07.101976Z",
     "iopub.status.busy": "2023-05-03T13:24:07.100966Z",
     "iopub.status.idle": "2023-05-03T13:24:07.106799Z",
     "shell.execute_reply": "2023-05-03T13:24:07.105908Z"
    },
    "executionInfo": {
     "elapsed": 9,
     "status": "ok",
     "timestamp": 1682686935867,
     "user": {
      "displayName": "LUAN WEBA SOARES",
      "userId": "17271118908107680380"
     },
     "user_tz": 180
    },
    "id": "flhfCJgA9KUe",
    "outputId": "b18bb8b3-63f1-45b9-adf6-d2e27fde4a01",
    "papermill": {
     "duration": 0.020272,
     "end_time": "2023-05-03T13:24:07.109335",
     "exception": false,
     "start_time": "2023-05-03T13:24:07.089063",
     "status": "completed"
    },
    "tags": []
   },
   "outputs": [
    {
     "data": {
      "text/plain": [
       "1.5"
      ]
     },
     "execution_count": 6,
     "metadata": {},
     "output_type": "execute_result"
    }
   ],
   "source": [
    "# Divisão\n",
    "3 / 2"
   ]
  },
  {
   "cell_type": "code",
   "execution_count": 7,
   "id": "9089c716",
   "metadata": {
    "execution": {
     "iopub.execute_input": "2023-05-03T13:24:07.132037Z",
     "iopub.status.busy": "2023-05-03T13:24:07.131358Z",
     "iopub.status.idle": "2023-05-03T13:24:07.136242Z",
     "shell.execute_reply": "2023-05-03T13:24:07.135571Z"
    },
    "executionInfo": {
     "elapsed": 5,
     "status": "ok",
     "timestamp": 1682686949690,
     "user": {
      "displayName": "LUAN WEBA SOARES",
      "userId": "17271118908107680380"
     },
     "user_tz": 180
    },
    "id": "cNrcueEX9P_0",
    "outputId": "98d77031-3948-4d98-edd9-9d94fb20cc51",
    "papermill": {
     "duration": 0.018024,
     "end_time": "2023-05-03T13:24:07.138252",
     "exception": false,
     "start_time": "2023-05-03T13:24:07.120228",
     "status": "completed"
    },
    "tags": []
   },
   "outputs": [
    {
     "data": {
      "text/plain": [
       "16"
      ]
     },
     "execution_count": 7,
     "metadata": {},
     "output_type": "execute_result"
    }
   ],
   "source": [
    "# Potencia\n",
    "4**2"
   ]
  },
  {
   "cell_type": "code",
   "execution_count": 8,
   "id": "c405befb",
   "metadata": {
    "execution": {
     "iopub.execute_input": "2023-05-03T13:24:07.159490Z",
     "iopub.status.busy": "2023-05-03T13:24:07.158541Z",
     "iopub.status.idle": "2023-05-03T13:24:07.165316Z",
     "shell.execute_reply": "2023-05-03T13:24:07.164559Z"
    },
    "executionInfo": {
     "elapsed": 11,
     "status": "ok",
     "timestamp": 1682686974654,
     "user": {
      "displayName": "LUAN WEBA SOARES",
      "userId": "17271118908107680380"
     },
     "user_tz": 180
    },
    "id": "l8tsflVM9TTE",
    "outputId": "831740c0-b586-4eb4-8e45-a4424bf8d068",
    "papermill": {
     "duration": 0.019413,
     "end_time": "2023-05-03T13:24:07.167293",
     "exception": false,
     "start_time": "2023-05-03T13:24:07.147880",
     "status": "completed"
    },
    "tags": []
   },
   "outputs": [
    {
     "data": {
      "text/plain": [
       "1"
      ]
     },
     "execution_count": 8,
     "metadata": {},
     "output_type": "execute_result"
    }
   ],
   "source": [
    "# Módulo (Resto da divisão)\n",
    "10 % 3"
   ]
  },
  {
   "cell_type": "markdown",
   "id": "2abfbc6b",
   "metadata": {
    "id": "bcWLZ1Rs-tc1",
    "papermill": {
     "duration": 0.009411,
     "end_time": "2023-05-03T13:24:07.189697",
     "exception": false,
     "start_time": "2023-05-03T13:24:07.180286",
     "status": "completed"
    },
    "tags": []
   },
   "source": [
    "# Tipo de Dados (Type)"
   ]
  },
  {
   "cell_type": "code",
   "execution_count": 9,
   "id": "566cf5ec",
   "metadata": {
    "execution": {
     "iopub.execute_input": "2023-05-03T13:24:07.208457Z",
     "iopub.status.busy": "2023-05-03T13:24:07.207592Z",
     "iopub.status.idle": "2023-05-03T13:24:07.214006Z",
     "shell.execute_reply": "2023-05-03T13:24:07.213119Z"
    },
    "executionInfo": {
     "elapsed": 378,
     "status": "ok",
     "timestamp": 1682687332754,
     "user": {
      "displayName": "LUAN WEBA SOARES",
      "userId": "17271118908107680380"
     },
     "user_tz": 180
    },
    "id": "zt_H6sV19ZZE",
    "outputId": "4422f60f-6a08-41b8-b993-e1282a3c2e55",
    "papermill": {
     "duration": 0.01799,
     "end_time": "2023-05-03T13:24:07.215881",
     "exception": false,
     "start_time": "2023-05-03T13:24:07.197891",
     "status": "completed"
    },
    "tags": []
   },
   "outputs": [
    {
     "data": {
      "text/plain": [
       "int"
      ]
     },
     "execution_count": 9,
     "metadata": {},
     "output_type": "execute_result"
    }
   ],
   "source": [
    "# Qual o tipo do (?) --> Inteiro\n",
    "type(5)"
   ]
  },
  {
   "cell_type": "code",
   "execution_count": 10,
   "id": "72b21eaa",
   "metadata": {
    "execution": {
     "iopub.execute_input": "2023-05-03T13:24:07.234597Z",
     "iopub.status.busy": "2023-05-03T13:24:07.233764Z",
     "iopub.status.idle": "2023-05-03T13:24:07.240144Z",
     "shell.execute_reply": "2023-05-03T13:24:07.239281Z"
    },
    "executionInfo": {
     "elapsed": 4,
     "status": "ok",
     "timestamp": 1682687339782,
     "user": {
      "displayName": "LUAN WEBA SOARES",
      "userId": "17271118908107680380"
     },
     "user_tz": 180
    },
    "id": "t5QzgTdz-wqR",
    "outputId": "c1e63154-f9df-483e-de8b-8318aef08724",
    "papermill": {
     "duration": 0.017974,
     "end_time": "2023-05-03T13:24:07.242111",
     "exception": false,
     "start_time": "2023-05-03T13:24:07.224137",
     "status": "completed"
    },
    "tags": []
   },
   "outputs": [
    {
     "data": {
      "text/plain": [
       "float"
      ]
     },
     "execution_count": 10,
     "metadata": {},
     "output_type": "execute_result"
    }
   ],
   "source": [
    "# Qual o tipo do (?) --> Float - Decimal\n",
    "type(5.0)"
   ]
  },
  {
   "cell_type": "code",
   "execution_count": 11,
   "id": "0861b1df",
   "metadata": {
    "execution": {
     "iopub.execute_input": "2023-05-03T13:24:07.260991Z",
     "iopub.status.busy": "2023-05-03T13:24:07.260178Z",
     "iopub.status.idle": "2023-05-03T13:24:07.266606Z",
     "shell.execute_reply": "2023-05-03T13:24:07.265749Z"
    },
    "executionInfo": {
     "elapsed": 6,
     "status": "ok",
     "timestamp": 1682687345519,
     "user": {
      "displayName": "LUAN WEBA SOARES",
      "userId": "17271118908107680380"
     },
     "user_tz": 180
    },
    "id": "LEtogeMZ-ylZ",
    "outputId": "8a6566d8-ee4f-4263-e288-7e32606bf982",
    "papermill": {
     "duration": 0.018192,
     "end_time": "2023-05-03T13:24:07.268535",
     "exception": false,
     "start_time": "2023-05-03T13:24:07.250343",
     "status": "completed"
    },
    "tags": []
   },
   "outputs": [
    {
     "data": {
      "text/plain": [
       "str"
      ]
     },
     "execution_count": 11,
     "metadata": {},
     "output_type": "execute_result"
    }
   ],
   "source": [
    "# Qual o tipo do (?) --> String\n",
    "a = 'Estudando Python'\n",
    "type(a)"
   ]
  },
  {
   "cell_type": "markdown",
   "id": "7694bc1c",
   "metadata": {
    "id": "VlTzoBiW-1i1",
    "papermill": {
     "duration": 0.00834,
     "end_time": "2023-05-03T13:24:07.285125",
     "exception": false,
     "start_time": "2023-05-03T13:24:07.276785",
     "status": "completed"
    },
    "tags": []
   },
   "source": [
    "# Condicional if"
   ]
  },
  {
   "cell_type": "code",
   "execution_count": 12,
   "id": "c8e1670a",
   "metadata": {
    "execution": {
     "iopub.execute_input": "2023-05-03T13:24:07.304464Z",
     "iopub.status.busy": "2023-05-03T13:24:07.303636Z",
     "iopub.status.idle": "2023-05-03T13:24:07.309679Z",
     "shell.execute_reply": "2023-05-03T13:24:07.308473Z"
    },
    "executionInfo": {
     "elapsed": 9,
     "status": "ok",
     "timestamp": 1682687592738,
     "user": {
      "displayName": "LUAN WEBA SOARES",
      "userId": "17271118908107680380"
     },
     "user_tz": 180
    },
    "id": "XoC-9JXy-z0p",
    "outputId": "767a85c4-8ff9-4a5f-8ddc-346aab7d739c",
    "papermill": {
     "duration": 0.018188,
     "end_time": "2023-05-03T13:24:07.311697",
     "exception": false,
     "start_time": "2023-05-03T13:24:07.293509",
     "status": "completed"
    },
    "tags": []
   },
   "outputs": [
    {
     "name": "stdout",
     "output_type": "stream",
     "text": [
      "A sentença é verdadeira!\n"
     ]
    }
   ],
   "source": [
    "# Condicional if (Se)\n",
    "if 5 > 2:\n",
    "    print(\"A sentença é verdadeira!\")"
   ]
  },
  {
   "cell_type": "code",
   "execution_count": 13,
   "id": "fda7e4df",
   "metadata": {
    "execution": {
     "iopub.execute_input": "2023-05-03T13:24:07.330716Z",
     "iopub.status.busy": "2023-05-03T13:24:07.330258Z",
     "iopub.status.idle": "2023-05-03T13:24:07.335925Z",
     "shell.execute_reply": "2023-05-03T13:24:07.334835Z"
    },
    "executionInfo": {
     "elapsed": 4,
     "status": "ok",
     "timestamp": 1682687599566,
     "user": {
      "displayName": "LUAN WEBA SOARES",
      "userId": "17271118908107680380"
     },
     "user_tz": 180
    },
    "id": "IgC_TYWx_wI4",
    "outputId": "14f04fa9-5ca1-4313-e050-9f2ed06a1e5b",
    "papermill": {
     "duration": 0.018877,
     "end_time": "2023-05-03T13:24:07.339044",
     "exception": false,
     "start_time": "2023-05-03T13:24:07.320167",
     "status": "completed"
    },
    "tags": []
   },
   "outputs": [
    {
     "name": "stdout",
     "output_type": "stream",
     "text": [
      "A sentença é falsa!\n"
     ]
    }
   ],
   "source": [
    "# Condicional if...else\n",
    "if 5 < 2:\n",
    "    print(\"A sentença é verdadeira!\")\n",
    "else:\n",
    "    print(\"A sentença é falsa!\")"
   ]
  },
  {
   "cell_type": "code",
   "execution_count": 14,
   "id": "76c1b762",
   "metadata": {
    "execution": {
     "iopub.execute_input": "2023-05-03T13:24:07.358075Z",
     "iopub.status.busy": "2023-05-03T13:24:07.357631Z",
     "iopub.status.idle": "2023-05-03T13:24:07.363367Z",
     "shell.execute_reply": "2023-05-03T13:24:07.362476Z"
    },
    "executionInfo": {
     "elapsed": 5,
     "status": "ok",
     "timestamp": 1682687603912,
     "user": {
      "displayName": "LUAN WEBA SOARES",
      "userId": "17271118908107680380"
     },
     "user_tz": 180
    },
    "id": "0b8ByVtU_xy3",
    "outputId": "4583a94c-a3d6-451b-fa05-6e9593763c3e",
    "papermill": {
     "duration": 0.018157,
     "end_time": "2023-05-03T13:24:07.365862",
     "exception": false,
     "start_time": "2023-05-03T13:24:07.347705",
     "status": "completed"
    },
    "tags": []
   },
   "outputs": [
    {
     "name": "stdout",
     "output_type": "stream",
     "text": [
      "Hoje vai chover!\n"
     ]
    }
   ],
   "source": [
    "# Condicional if...else com variável\n",
    "dia = \"Quarta-feira\"\n",
    "if dia == 'Sexta-feira':\n",
    "    print(\"Hoje fará sol!\")\n",
    "else:\n",
    "    print(\"Hoje vai chover!\")"
   ]
  },
  {
   "cell_type": "markdown",
   "id": "cb5c24d4",
   "metadata": {
    "id": "j9uuKFAoDtl2",
    "papermill": {
     "duration": 0.008318,
     "end_time": "2023-05-03T13:24:07.382914",
     "exception": false,
     "start_time": "2023-05-03T13:24:07.374596",
     "status": "completed"
    },
    "tags": []
   },
   "source": [
    "# Manipulando Arquivos (.txt)"
   ]
  },
  {
   "cell_type": "code",
   "execution_count": 15,
   "id": "20db3b79",
   "metadata": {
    "execution": {
     "iopub.execute_input": "2023-05-03T13:24:07.402670Z",
     "iopub.status.busy": "2023-05-03T13:24:07.401816Z",
     "iopub.status.idle": "2023-05-03T13:24:07.415705Z",
     "shell.execute_reply": "2023-05-03T13:24:07.414650Z"
    },
    "executionInfo": {
     "elapsed": 9,
     "status": "ok",
     "timestamp": 1683117786441,
     "user": {
      "displayName": "LUAN WEBA SOARES",
      "userId": "17271118908107680380"
     },
     "user_tz": 180
    },
    "id": "t0yY0eNuDuII",
    "papermill": {
     "duration": 0.026607,
     "end_time": "2023-05-03T13:24:07.418361",
     "exception": false,
     "start_time": "2023-05-03T13:24:07.391754",
     "status": "completed"
    },
    "tags": []
   },
   "outputs": [],
   "source": [
    "# Abrindo o arquivo para leitura\n",
    "a1 = open(\"/kaggle/input/arquivos/arquivo1.txt\", \"r\")"
   ]
  },
  {
   "cell_type": "code",
   "execution_count": 16,
   "id": "38d78c02",
   "metadata": {
    "execution": {
     "iopub.execute_input": "2023-05-03T13:24:07.438366Z",
     "iopub.status.busy": "2023-05-03T13:24:07.437631Z",
     "iopub.status.idle": "2023-05-03T13:24:07.445388Z",
     "shell.execute_reply": "2023-05-03T13:24:07.444139Z"
    },
    "executionInfo": {
     "elapsed": 473,
     "status": "ok",
     "timestamp": 1683117788069,
     "user": {
      "displayName": "LUAN WEBA SOARES",
      "userId": "17271118908107680380"
     },
     "user_tz": 180
    },
    "id": "W-u8dM8ooqkI",
    "outputId": "fc9a89ee-9eac-42f7-d705-5b6e8a6f7424",
    "papermill": {
     "duration": 0.020313,
     "end_time": "2023-05-03T13:24:07.447598",
     "exception": false,
     "start_time": "2023-05-03T13:24:07.427285",
     "status": "completed"
    },
    "tags": []
   },
   "outputs": [
    {
     "name": "stdout",
     "output_type": "stream",
     "text": [
      "Olá pessoal!\n"
     ]
    }
   ],
   "source": [
    "# Lendo arquivo\n",
    "print(a1.read())"
   ]
  },
  {
   "cell_type": "markdown",
   "id": "b407e43e",
   "metadata": {
    "id": "J2z9fzLXEIH8",
    "papermill": {
     "duration": 0.008681,
     "end_time": "2023-05-03T13:24:07.465065",
     "exception": false,
     "start_time": "2023-05-03T13:24:07.456384",
     "status": "completed"
    },
    "tags": []
   },
   "source": [
    "# Gravando arquivo"
   ]
  },
  {
   "cell_type": "code",
   "execution_count": 17,
   "id": "af7ba16f",
   "metadata": {
    "execution": {
     "iopub.execute_input": "2023-05-03T13:24:07.484826Z",
     "iopub.status.busy": "2023-05-03T13:24:07.483975Z",
     "iopub.status.idle": "2023-05-03T13:24:07.488803Z",
     "shell.execute_reply": "2023-05-03T13:24:07.487914Z"
    },
    "executionInfo": {
     "elapsed": 3,
     "status": "ok",
     "timestamp": 1683117412873,
     "user": {
      "displayName": "LUAN WEBA SOARES",
      "userId": "17271118908107680380"
     },
     "user_tz": 180
    },
    "id": "DmU25Wa_ECN3",
    "papermill": {
     "duration": 0.017089,
     "end_time": "2023-05-03T13:24:07.490862",
     "exception": false,
     "start_time": "2023-05-03T13:24:07.473773",
     "status": "completed"
    },
    "tags": []
   },
   "outputs": [],
   "source": [
    "# Abrindo o arquivo para gravação\n",
    "a2 = open (\"/kaggle/working/arquivo2.txt\",\"w\")"
   ]
  },
  {
   "cell_type": "code",
   "execution_count": 18,
   "id": "84a1b59a",
   "metadata": {
    "execution": {
     "iopub.execute_input": "2023-05-03T13:24:07.510590Z",
     "iopub.status.busy": "2023-05-03T13:24:07.509783Z",
     "iopub.status.idle": "2023-05-03T13:24:07.517349Z",
     "shell.execute_reply": "2023-05-03T13:24:07.516398Z"
    },
    "executionInfo": {
     "elapsed": 4,
     "status": "ok",
     "timestamp": 1683117414068,
     "user": {
      "displayName": "LUAN WEBA SOARES",
      "userId": "17271118908107680380"
     },
     "user_tz": 180
    },
    "id": "KYIeNu0EEKfX",
    "outputId": "c1fceba0-c17b-4d9f-8dc2-3cddf8fed0c1",
    "papermill": {
     "duration": 0.021046,
     "end_time": "2023-05-03T13:24:07.520620",
     "exception": false,
     "start_time": "2023-05-03T13:24:07.499574",
     "status": "completed"
    },
    "tags": []
   },
   "outputs": [
    {
     "data": {
      "text/plain": [
       "13"
      ]
     },
     "execution_count": 18,
     "metadata": {},
     "output_type": "execute_result"
    }
   ],
   "source": [
    "# Gravando no arquivo\n",
    "a2.write(\"Bye Bye World\")"
   ]
  },
  {
   "cell_type": "code",
   "execution_count": 19,
   "id": "2f197ff8",
   "metadata": {
    "execution": {
     "iopub.execute_input": "2023-05-03T13:24:07.556506Z",
     "iopub.status.busy": "2023-05-03T13:24:07.555534Z",
     "iopub.status.idle": "2023-05-03T13:24:07.561533Z",
     "shell.execute_reply": "2023-05-03T13:24:07.560156Z"
    },
    "executionInfo": {
     "elapsed": 3,
     "status": "ok",
     "timestamp": 1683117414607,
     "user": {
      "displayName": "LUAN WEBA SOARES",
      "userId": "17271118908107680380"
     },
     "user_tz": 180
    },
    "id": "zpdcBcOVELtf",
    "papermill": {
     "duration": 0.022616,
     "end_time": "2023-05-03T13:24:07.564919",
     "exception": false,
     "start_time": "2023-05-03T13:24:07.542303",
     "status": "completed"
    },
    "tags": []
   },
   "outputs": [],
   "source": [
    "# Abrindo o arquivo para leitura\n",
    "a2 = open (\"/kaggle/working/arquivo2.txt\",\"r\")"
   ]
  },
  {
   "cell_type": "code",
   "execution_count": 20,
   "id": "8d28c4ce",
   "metadata": {
    "execution": {
     "iopub.execute_input": "2023-05-03T13:24:07.594551Z",
     "iopub.status.busy": "2023-05-03T13:24:07.593618Z",
     "iopub.status.idle": "2023-05-03T13:24:07.599783Z",
     "shell.execute_reply": "2023-05-03T13:24:07.598711Z"
    },
    "executionInfo": {
     "elapsed": 9,
     "status": "ok",
     "timestamp": 1683117415328,
     "user": {
      "displayName": "LUAN WEBA SOARES",
      "userId": "17271118908107680380"
     },
     "user_tz": 180
    },
    "id": "_AOggoimEM9f",
    "outputId": "0a1b2723-529d-42ec-875a-a292bd6812b3",
    "papermill": {
     "duration": 0.02502,
     "end_time": "2023-05-03T13:24:07.603585",
     "exception": false,
     "start_time": "2023-05-03T13:24:07.578565",
     "status": "completed"
    },
    "tags": []
   },
   "outputs": [
    {
     "name": "stdout",
     "output_type": "stream",
     "text": [
      "Bye Bye World\n"
     ]
    }
   ],
   "source": [
    "# Imprimindo o arquivo\n",
    "print(a2.read())"
   ]
  },
  {
   "cell_type": "code",
   "execution_count": null,
   "id": "1a0fdb32",
   "metadata": {
    "papermill": {
     "duration": 0.012833,
     "end_time": "2023-05-03T13:24:07.630688",
     "exception": false,
     "start_time": "2023-05-03T13:24:07.617855",
     "status": "completed"
    },
    "tags": []
   },
   "outputs": [],
   "source": []
  }
 ],
 "metadata": {
  "kernelspec": {
   "display_name": "Python 3",
   "language": "python",
   "name": "python3"
  },
  "language_info": {
   "codemirror_mode": {
    "name": "ipython",
    "version": 3
   },
   "file_extension": ".py",
   "mimetype": "text/x-python",
   "name": "python",
   "nbconvert_exporter": "python",
   "pygments_lexer": "ipython3",
   "version": "3.10.10"
  },
  "papermill": {
   "default_parameters": {},
   "duration": 11.850721,
   "end_time": "2023-05-03T13:24:08.463732",
   "environment_variables": {},
   "exception": null,
   "input_path": "__notebook__.ipynb",
   "output_path": "__notebook__.ipynb",
   "parameters": {},
   "start_time": "2023-05-03T13:23:56.613011",
   "version": "2.4.0"
  }
 },
 "nbformat": 4,
 "nbformat_minor": 5
}
