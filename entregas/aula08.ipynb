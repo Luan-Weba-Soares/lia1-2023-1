{
  "nbformat": 4,
  "nbformat_minor": 0,
  "metadata": {
    "colab": {
      "provenance": [],
      "mount_file_id": "1Ij0TNr5W6vV-4nxbfWi2n6c_O6nkonOQ",
      "authorship_tag": "ABX9TyMOKG72w+zE5swTc2IPy93l",
      "include_colab_link": true
    },
    "kernelspec": {
      "name": "python3",
      "display_name": "Python 3"
    },
    "language_info": {
      "name": "python"
    }
  },
  "cells": [
    {
      "cell_type": "markdown",
      "metadata": {
        "id": "view-in-github",
        "colab_type": "text"
      },
      "source": [
        "<a href=\"https://colab.research.google.com/github/Luan-Weba-Soares/lia1-2023-1/blob/main/entregas/aula08.ipynb\" target=\"_parent\"><img src=\"https://colab.research.google.com/assets/colab-badge.svg\" alt=\"Open In Colab\"/></a>"
      ]
    },
    {
      "cell_type": "markdown",
      "source": [
        "## Aula 8"
      ],
      "metadata": {
        "id": "l1Bq38wZBJUQ"
      }
    },
    {
      "cell_type": "code",
      "execution_count": null,
      "metadata": {
        "id": "FYPVFdglkoKF"
      },
      "outputs": [],
      "source": [
        "!pip install -q gtts\n",
        "!pip install -q vosk\n",
        "!apt-get install portaudio19-dev\n",
        "!apt-get install build-essential\n",
        "!pip install --no-cache-dir pyaudio\n",
        "!pip install SpeechRecognition"
      ]
    },
    {
      "cell_type": "code",
      "source": [
        "from gtts import gTTS\n",
        "diser_texto= \"Este texto será dito!\"\n",
        "language = 'pt'\n",
        "gtts_object = gTTS(text = diser_texto,\n",
        "                   lang = language,\n",
        "                   slow = False)\n",
        "gtts_object.save('/content/gtts1.wav')"
      ],
      "metadata": {
        "id": "ULc0xj7KkrnR"
      },
      "execution_count": null,
      "outputs": []
    },
    {
      "cell_type": "code",
      "source": [
        "from IPython.display import Audio"
      ],
      "metadata": {
        "id": "QjYsucUMlGbA"
      },
      "execution_count": null,
      "outputs": []
    },
    {
      "cell_type": "code",
      "source": [
        "Audio ('/content/gtts1.wav')"
      ],
      "metadata": {
        "colab": {
          "base_uri": "https://localhost:8080/",
          "height": 75
        },
        "id": "msEyINKAmug3",
        "outputId": "036329a1-c05a-4d62-f403-162123bf94b0"
      },
      "execution_count": null,
      "outputs": [
        {
          "output_type": "execute_result",
          "data": {
            "text/plain": [
              "<IPython.lib.display.Audio object>"
            ],
            "text/html": [
              "\n",
              "                <audio  controls=\"controls\" >\n",
              "                    <source src=\"data:audio/x-wav;base64,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\" type=\"audio/x-wav\" />\n",
              "                    Your browser does not support the audio element.\n",
              "                </audio>\n",
              "              "
            ]
          },
          "metadata": {},
          "execution_count": 8
        }
      ]
    },
    {
      "cell_type": "code",
      "source": [
        "# Arquivo principal\n",
        "\n",
        "# Assistente online!\n",
        "'''\n",
        "import speech_recognition as sr\n",
        "\n",
        "# Criar um reconhecedor de voz\n",
        "r = sr.Recognizer()\n",
        "\n",
        "# Abrir o microfone para capturar áudio\n",
        "with sr.Microphone() as source:\n",
        "    while True:\n",
        "        # Definir microfone como fonte de áudio\n",
        "        audio = r.listen(source)\n",
        "        print(r.recognize_google(audio, language='pt'))\n",
        "'''\n",
        "\n",
        "# Assistente offline!\n",
        "#!/usr/bin/env python3\n",
        "\n",
        "from vosk import Model, KaldiRecognizer\n",
        "import os\n",
        "import pyaudio\n",
        "\n",
        "model = Model('/content/drive/MyDrive/Automação/Aula 08/vosk-model-small-pt-0.3')\n",
        "rec = KaldiRecognizer(model, 16000)\n",
        "\n",
        "p = pyaudio.PyAudio()\n",
        "stream = p.open(format=pyaudio.paInt16, channels=1, rate=16000, input=True, frames_per_buffer=8000)\n",
        "stream.start_stream()\n",
        "\n",
        "while True:\n",
        "    data = stream.read(4000)\n",
        "    if len(data) == 0:\n",
        "        break\n",
        "    if rec.AcceptWaveform(data):\n",
        "        print(rec.Result())\n",
        "    else:\n",
        "        print(rec.PartialResult())\n",
        "\n",
        "print(rec.FinalResult())"
      ],
      "metadata": {
        "colab": {
          "base_uri": "https://localhost:8080/",
          "height": 397
        },
        "id": "XailUdGgmzK0",
        "outputId": "3375026a-c539-464c-b697-3f7439529afc"
      },
      "execution_count": null,
      "outputs": [
        {
          "output_type": "error",
          "ename": "OSError",
          "evalue": "ignored",
          "traceback": [
            "\u001b[0;31m---------------------------------------------------------------------------\u001b[0m",
            "\u001b[0;31mOSError\u001b[0m                                   Traceback (most recent call last)",
            "\u001b[0;32m<ipython-input-27-5e95b81f69bb>\u001b[0m in \u001b[0;36m<cell line: 29>\u001b[0;34m()\u001b[0m\n\u001b[1;32m     27\u001b[0m \u001b[0;34m\u001b[0m\u001b[0m\n\u001b[1;32m     28\u001b[0m \u001b[0mp\u001b[0m \u001b[0;34m=\u001b[0m \u001b[0mpyaudio\u001b[0m\u001b[0;34m.\u001b[0m\u001b[0mPyAudio\u001b[0m\u001b[0;34m(\u001b[0m\u001b[0;34m)\u001b[0m\u001b[0;34m\u001b[0m\u001b[0;34m\u001b[0m\u001b[0m\n\u001b[0;32m---> 29\u001b[0;31m \u001b[0mstream\u001b[0m \u001b[0;34m=\u001b[0m \u001b[0mp\u001b[0m\u001b[0;34m.\u001b[0m\u001b[0mopen\u001b[0m\u001b[0;34m(\u001b[0m\u001b[0mformat\u001b[0m\u001b[0;34m=\u001b[0m\u001b[0mpyaudio\u001b[0m\u001b[0;34m.\u001b[0m\u001b[0mpaInt16\u001b[0m\u001b[0;34m,\u001b[0m \u001b[0mchannels\u001b[0m\u001b[0;34m=\u001b[0m\u001b[0;36m1\u001b[0m\u001b[0;34m,\u001b[0m \u001b[0mrate\u001b[0m\u001b[0;34m=\u001b[0m\u001b[0;36m16000\u001b[0m\u001b[0;34m,\u001b[0m \u001b[0minput\u001b[0m\u001b[0;34m=\u001b[0m\u001b[0;32mTrue\u001b[0m\u001b[0;34m,\u001b[0m \u001b[0mframes_per_buffer\u001b[0m\u001b[0;34m=\u001b[0m\u001b[0;36m8000\u001b[0m\u001b[0;34m)\u001b[0m\u001b[0;34m\u001b[0m\u001b[0;34m\u001b[0m\u001b[0m\n\u001b[0m\u001b[1;32m     30\u001b[0m \u001b[0mstream\u001b[0m\u001b[0;34m.\u001b[0m\u001b[0mstart_stream\u001b[0m\u001b[0;34m(\u001b[0m\u001b[0;34m)\u001b[0m\u001b[0;34m\u001b[0m\u001b[0;34m\u001b[0m\u001b[0m\n\u001b[1;32m     31\u001b[0m \u001b[0;34m\u001b[0m\u001b[0m\n",
            "\u001b[0;32m/usr/local/lib/python3.10/dist-packages/pyaudio/__init__.py\u001b[0m in \u001b[0;36mopen\u001b[0;34m(self, *args, **kwargs)\u001b[0m\n\u001b[1;32m    637\u001b[0m         \u001b[0;34m:\u001b[0m\u001b[0mreturns\u001b[0m\u001b[0;34m:\u001b[0m \u001b[0mA\u001b[0m \u001b[0mnew\u001b[0m \u001b[0;34m:\u001b[0m\u001b[0mpy\u001b[0m\u001b[0;34m:\u001b[0m\u001b[0;32mclass\u001b[0m\u001b[0;34m:\u001b[0m\u001b[0;31m`\u001b[0m\u001b[0mPyAudio\u001b[0m\u001b[0;34m.\u001b[0m\u001b[0mStream\u001b[0m\u001b[0;31m`\u001b[0m\u001b[0;34m\u001b[0m\u001b[0;34m\u001b[0m\u001b[0m\n\u001b[1;32m    638\u001b[0m         \"\"\"\n\u001b[0;32m--> 639\u001b[0;31m         \u001b[0mstream\u001b[0m \u001b[0;34m=\u001b[0m \u001b[0mPyAudio\u001b[0m\u001b[0;34m.\u001b[0m\u001b[0mStream\u001b[0m\u001b[0;34m(\u001b[0m\u001b[0mself\u001b[0m\u001b[0;34m,\u001b[0m \u001b[0;34m*\u001b[0m\u001b[0margs\u001b[0m\u001b[0;34m,\u001b[0m \u001b[0;34m**\u001b[0m\u001b[0mkwargs\u001b[0m\u001b[0;34m)\u001b[0m\u001b[0;34m\u001b[0m\u001b[0;34m\u001b[0m\u001b[0m\n\u001b[0m\u001b[1;32m    640\u001b[0m         \u001b[0mself\u001b[0m\u001b[0;34m.\u001b[0m\u001b[0m_streams\u001b[0m\u001b[0;34m.\u001b[0m\u001b[0madd\u001b[0m\u001b[0;34m(\u001b[0m\u001b[0mstream\u001b[0m\u001b[0;34m)\u001b[0m\u001b[0;34m\u001b[0m\u001b[0;34m\u001b[0m\u001b[0m\n\u001b[1;32m    641\u001b[0m         \u001b[0;32mreturn\u001b[0m \u001b[0mstream\u001b[0m\u001b[0;34m\u001b[0m\u001b[0;34m\u001b[0m\u001b[0m\n",
            "\u001b[0;32m/usr/local/lib/python3.10/dist-packages/pyaudio/__init__.py\u001b[0m in \u001b[0;36m__init__\u001b[0;34m(self, PA_manager, rate, channels, format, input, output, input_device_index, output_device_index, frames_per_buffer, start, input_host_api_specific_stream_info, output_host_api_specific_stream_info, stream_callback)\u001b[0m\n\u001b[1;32m    439\u001b[0m \u001b[0;34m\u001b[0m\u001b[0m\n\u001b[1;32m    440\u001b[0m             \u001b[0;31m# calling pa.open returns a stream object\u001b[0m\u001b[0;34m\u001b[0m\u001b[0;34m\u001b[0m\u001b[0m\n\u001b[0;32m--> 441\u001b[0;31m             \u001b[0mself\u001b[0m\u001b[0;34m.\u001b[0m\u001b[0m_stream\u001b[0m \u001b[0;34m=\u001b[0m \u001b[0mpa\u001b[0m\u001b[0;34m.\u001b[0m\u001b[0mopen\u001b[0m\u001b[0;34m(\u001b[0m\u001b[0;34m**\u001b[0m\u001b[0marguments\u001b[0m\u001b[0;34m)\u001b[0m\u001b[0;34m\u001b[0m\u001b[0;34m\u001b[0m\u001b[0m\n\u001b[0m\u001b[1;32m    442\u001b[0m \u001b[0;34m\u001b[0m\u001b[0m\n\u001b[1;32m    443\u001b[0m             \u001b[0mself\u001b[0m\u001b[0;34m.\u001b[0m\u001b[0m_input_latency\u001b[0m \u001b[0;34m=\u001b[0m \u001b[0mself\u001b[0m\u001b[0;34m.\u001b[0m\u001b[0m_stream\u001b[0m\u001b[0;34m.\u001b[0m\u001b[0minputLatency\u001b[0m\u001b[0;34m\u001b[0m\u001b[0;34m\u001b[0m\u001b[0m\n",
            "\u001b[0;31mOSError\u001b[0m: [Errno -9996] Invalid input device (no default output device)"
          ]
        }
      ]
    }
  ]
}