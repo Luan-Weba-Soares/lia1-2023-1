{
  "nbformat": 4,
  "nbformat_minor": 0,
  "metadata": {
    "colab": {
      "provenance": [],
      "mount_file_id": "1CJ-7SmgS04bMLn_Ll6wwB3oa5aUOeO1D",
      "authorship_tag": "ABX9TyOLq3aPY1pm8Hhvp4mBDqaF",
      "include_colab_link": true
    },
    "kernelspec": {
      "name": "python3",
      "display_name": "Python 3"
    },
    "language_info": {
      "name": "python"
    }
  },
  "cells": [
    {
      "cell_type": "markdown",
      "metadata": {
        "id": "view-in-github",
        "colab_type": "text"
      },
      "source": [
        "<a href=\"https://colab.research.google.com/github/Luan-Weba-Soares/lia1-2023-1/blob/main/Bye%2C_bye_World!_Luan_Weba_Soares.ipynb\" target=\"_parent\"><img src=\"https://colab.research.google.com/assets/colab-badge.svg\" alt=\"Open In Colab\"/></a>"
      ]
    },
    {
      "cell_type": "markdown",
      "source": [
        "<hr style=\"height:10px\"> \n",
        " \n",
        "<div class='container2'>\n",
        "\t\t<div>\n",
        "\t\t\t<img src='/content/drive/MyDrive/Automação/Imagem/Logomarca.gif' ALIGN='left' style='width:10em'>\n",
        "\t\t</div>\t\n",
        "\t<div style='padding: 0 7em 2em 12em;'>\n",
        "\t<h1>Laboratório de Inovação e Automação 1 (LIA 1)</h1>\n",
        "\t<div style=\"font-size:12pt;float:left;\"> 2023/1 | 46M34 | Sala 200 CAE</div><br><br>\n",
        "    <div style=\"font-size:12pt;float:left;\"><b>Projetos de Inteligência Artificial</b></div>\n",
        "\t</div>\n",
        "</div>\n",
        "\n",
        "\n",
        " <hr style=\"height:5px\"> \n",
        "\n",
        "    \n",
        "<h2>Introdução ao Ambiente de Projetos - Python</h2>\n",
        "\n",
        "Notebook desenvolvido por: <a href=\"http://lattes.cnpq.br/1346824250595330\">Prof. Dr. Adriano C. Santana</a>\n",
        "\n",
        " <hr style=\"height:2px\"> \n"
      ],
      "metadata": {
        "id": "jZwEhEZqrV7g"
      }
    },
    {
      "cell_type": "code",
      "source": [
        "from platform import python_version\n",
        "print(f'A versão em uso é {python_version()}.')"
      ],
      "metadata": {
        "colab": {
          "base_uri": "https://localhost:8080/"
        },
        "id": "FljZ_QzBilT2",
        "outputId": "6dbfe320-0745-41fc-fac5-06801bcb79d0"
      },
      "execution_count": null,
      "outputs": [
        {
          "output_type": "stream",
          "name": "stdout",
          "text": [
            "A versão em uso é 3.10.11.\n"
          ]
        }
      ]
    },
    {
      "cell_type": "code",
      "source": [
        "# Verificar se o Python está funcionando\n",
        "print('Bye bye, World!')"
      ],
      "metadata": {
        "colab": {
          "base_uri": "https://localhost:8080/"
        },
        "id": "e5HvkLZliqck",
        "outputId": "de825921-d62e-4285-8ada-cdd7809c01de"
      },
      "execution_count": null,
      "outputs": [
        {
          "output_type": "stream",
          "name": "stdout",
          "text": [
            "Bye bye, World!\n"
          ]
        }
      ]
    },
    {
      "cell_type": "markdown",
      "source": [
        "# Operadores Aritiméticos"
      ],
      "metadata": {
        "id": "zRjA_R-287uJ"
      }
    },
    {
      "cell_type": "code",
      "source": [
        "# Adição\n",
        "1 + 1"
      ],
      "metadata": {
        "colab": {
          "base_uri": "https://localhost:8080/"
        },
        "id": "aoNa8Ywv8-XE",
        "outputId": "863f72cb-ce24-495f-ae29-416150a73b29"
      },
      "execution_count": null,
      "outputs": [
        {
          "output_type": "execute_result",
          "data": {
            "text/plain": [
              "2"
            ]
          },
          "metadata": {},
          "execution_count": 1
        }
      ]
    },
    {
      "cell_type": "code",
      "source": [
        "# Subtração\n",
        "2 - 1"
      ],
      "metadata": {
        "colab": {
          "base_uri": "https://localhost:8080/"
        },
        "id": "JhlL6wZi9B-k",
        "outputId": "dcf6b33e-df2a-4e2e-eccb-069ff1e1a7a7"
      },
      "execution_count": null,
      "outputs": [
        {
          "output_type": "execute_result",
          "data": {
            "text/plain": [
              "1"
            ]
          },
          "metadata": {},
          "execution_count": 3
        }
      ]
    },
    {
      "cell_type": "code",
      "source": [
        "# Multiplacação\n",
        "2*2"
      ],
      "metadata": {
        "colab": {
          "base_uri": "https://localhost:8080/"
        },
        "id": "uSKWBMol9De0",
        "outputId": "81110478-d6fc-4aec-9fac-dfd3a1ec07f8"
      },
      "execution_count": null,
      "outputs": [
        {
          "output_type": "execute_result",
          "data": {
            "text/plain": [
              "4"
            ]
          },
          "metadata": {},
          "execution_count": 4
        }
      ]
    },
    {
      "cell_type": "code",
      "source": [
        "# Divisão\n",
        "3 / 2"
      ],
      "metadata": {
        "colab": {
          "base_uri": "https://localhost:8080/"
        },
        "id": "flhfCJgA9KUe",
        "outputId": "b18bb8b3-63f1-45b9-adf6-d2e27fde4a01"
      },
      "execution_count": null,
      "outputs": [
        {
          "output_type": "execute_result",
          "data": {
            "text/plain": [
              "1.5"
            ]
          },
          "metadata": {},
          "execution_count": 5
        }
      ]
    },
    {
      "cell_type": "code",
      "source": [
        "# Potencia\n",
        "4**2"
      ],
      "metadata": {
        "colab": {
          "base_uri": "https://localhost:8080/"
        },
        "id": "cNrcueEX9P_0",
        "outputId": "98d77031-3948-4d98-edd9-9d94fb20cc51"
      },
      "execution_count": null,
      "outputs": [
        {
          "output_type": "execute_result",
          "data": {
            "text/plain": [
              "16"
            ]
          },
          "metadata": {},
          "execution_count": 6
        }
      ]
    },
    {
      "cell_type": "code",
      "source": [
        "# Módulo (Resto da divisão)\n",
        "10 % 3"
      ],
      "metadata": {
        "colab": {
          "base_uri": "https://localhost:8080/"
        },
        "id": "l8tsflVM9TTE",
        "outputId": "831740c0-b586-4eb4-8e45-a4424bf8d068"
      },
      "execution_count": null,
      "outputs": [
        {
          "output_type": "execute_result",
          "data": {
            "text/plain": [
              "1"
            ]
          },
          "metadata": {},
          "execution_count": 7
        }
      ]
    },
    {
      "cell_type": "markdown",
      "source": [
        "# Tipo de Dados (Type)"
      ],
      "metadata": {
        "id": "bcWLZ1Rs-tc1"
      }
    },
    {
      "cell_type": "code",
      "source": [
        "# Qual o tipo do (?) --> Inteiro\n",
        "type(5)"
      ],
      "metadata": {
        "colab": {
          "base_uri": "https://localhost:8080/"
        },
        "id": "zt_H6sV19ZZE",
        "outputId": "4422f60f-6a08-41b8-b993-e1282a3c2e55"
      },
      "execution_count": null,
      "outputs": [
        {
          "output_type": "execute_result",
          "data": {
            "text/plain": [
              "int"
            ]
          },
          "metadata": {},
          "execution_count": 8
        }
      ]
    },
    {
      "cell_type": "code",
      "source": [
        "# Qual o tipo do (?) --> Float - Decimal\n",
        "type(5.0)"
      ],
      "metadata": {
        "colab": {
          "base_uri": "https://localhost:8080/"
        },
        "id": "t5QzgTdz-wqR",
        "outputId": "c1e63154-f9df-483e-de8b-8318aef08724"
      },
      "execution_count": null,
      "outputs": [
        {
          "output_type": "execute_result",
          "data": {
            "text/plain": [
              "float"
            ]
          },
          "metadata": {},
          "execution_count": 10
        }
      ]
    },
    {
      "cell_type": "code",
      "source": [
        "# Qual o tipo do (?) --> String\n",
        "a = 'Estudando Python'\n",
        "type(a)"
      ],
      "metadata": {
        "colab": {
          "base_uri": "https://localhost:8080/"
        },
        "id": "LEtogeMZ-ylZ",
        "outputId": "8a6566d8-ee4f-4263-e288-7e32606bf982"
      },
      "execution_count": null,
      "outputs": [
        {
          "output_type": "execute_result",
          "data": {
            "text/plain": [
              "str"
            ]
          },
          "metadata": {},
          "execution_count": 11
        }
      ]
    },
    {
      "cell_type": "markdown",
      "source": [
        "# Condicional if"
      ],
      "metadata": {
        "id": "VlTzoBiW-1i1"
      }
    },
    {
      "cell_type": "code",
      "source": [
        "# Condicional if (Se)\n",
        "if 5 > 2:\n",
        "    print(\"A sentença é verdadeira!\")"
      ],
      "metadata": {
        "colab": {
          "base_uri": "https://localhost:8080/"
        },
        "id": "XoC-9JXy-z0p",
        "outputId": "767a85c4-8ff9-4a5f-8ddc-346aab7d739c"
      },
      "execution_count": null,
      "outputs": [
        {
          "output_type": "stream",
          "name": "stdout",
          "text": [
            "A sentença é verdadeira!\n"
          ]
        }
      ]
    },
    {
      "cell_type": "code",
      "source": [
        "# Condicional if...else\n",
        "if 5 < 2:\n",
        "    print(\"A sentença é verdadeira!\")\n",
        "else:\n",
        "    print(\"A sentença é falsa!\")"
      ],
      "metadata": {
        "colab": {
          "base_uri": "https://localhost:8080/"
        },
        "id": "IgC_TYWx_wI4",
        "outputId": "14f04fa9-5ca1-4313-e050-9f2ed06a1e5b"
      },
      "execution_count": null,
      "outputs": [
        {
          "output_type": "stream",
          "name": "stdout",
          "text": [
            "A sentença é falsa!\n"
          ]
        }
      ]
    },
    {
      "cell_type": "code",
      "source": [
        "# Condicional if...else com variável\n",
        "dia = \"Quarta-feira\"\n",
        "if dia == 'Sexta-feira':\n",
        "    print(\"Hoje fará sol!\")\n",
        "else:\n",
        "    print(\"Hoje vai chover!\")"
      ],
      "metadata": {
        "colab": {
          "base_uri": "https://localhost:8080/"
        },
        "id": "0b8ByVtU_xy3",
        "outputId": "4583a94c-a3d6-451b-fa05-6e9593763c3e"
      },
      "execution_count": null,
      "outputs": [
        {
          "output_type": "stream",
          "name": "stdout",
          "text": [
            "Hoje vai chover!\n"
          ]
        }
      ]
    },
    {
      "cell_type": "markdown",
      "source": [
        "# Manipulando Arquivos (.txt)"
      ],
      "metadata": {
        "id": "j9uuKFAoDtl2"
      }
    },
    {
      "cell_type": "code",
      "source": [
        "# Abrindo o arquivo para leitura\n",
        "a1 = open(\"/content/drive/MyDrive/Automação/arquivos/arquivo1.txt\", \"r\")"
      ],
      "metadata": {
        "id": "t0yY0eNuDuII"
      },
      "execution_count": 32,
      "outputs": []
    },
    {
      "cell_type": "code",
      "source": [
        "# Lendo arquivo\n",
        "print(a1.read())"
      ],
      "metadata": {
        "colab": {
          "base_uri": "https://localhost:8080/"
        },
        "id": "W-u8dM8ooqkI",
        "outputId": "fc9a89ee-9eac-42f7-d705-5b6e8a6f7424"
      },
      "execution_count": 33,
      "outputs": [
        {
          "output_type": "stream",
          "name": "stdout",
          "text": [
            "Olá pessoal!\n"
          ]
        }
      ]
    },
    {
      "cell_type": "markdown",
      "source": [
        "# Gravando arquivo"
      ],
      "metadata": {
        "id": "J2z9fzLXEIH8"
      }
    },
    {
      "cell_type": "code",
      "source": [
        "# Abrindo o arquivo para gravação\n",
        "a2 = open (\"/content/drive/MyDrive/Automação/arquivos/arquivo2.txt\",\"w\")"
      ],
      "metadata": {
        "id": "DmU25Wa_ECN3"
      },
      "execution_count": 23,
      "outputs": []
    },
    {
      "cell_type": "code",
      "source": [
        "# Gravando no arquivo\n",
        "a2.write(\"Bye Bye World\")"
      ],
      "metadata": {
        "colab": {
          "base_uri": "https://localhost:8080/"
        },
        "id": "KYIeNu0EEKfX",
        "outputId": "c1fceba0-c17b-4d9f-8dc2-3cddf8fed0c1"
      },
      "execution_count": 24,
      "outputs": [
        {
          "output_type": "execute_result",
          "data": {
            "text/plain": [
              "13"
            ]
          },
          "metadata": {},
          "execution_count": 24
        }
      ]
    },
    {
      "cell_type": "code",
      "source": [
        "# Abrindo o arquivo para leitura\n",
        "a2 = open (\"/content/drive/MyDrive/Automação/arquivos/arquivo2.txt\",\"r\")"
      ],
      "metadata": {
        "id": "zpdcBcOVELtf"
      },
      "execution_count": 25,
      "outputs": []
    },
    {
      "cell_type": "code",
      "source": [
        "# Imprimindo o arquivo\n",
        "print(a2.read())"
      ],
      "metadata": {
        "id": "_AOggoimEM9f",
        "outputId": "0a1b2723-529d-42ec-875a-a292bd6812b3",
        "colab": {
          "base_uri": "https://localhost:8080/"
        }
      },
      "execution_count": 26,
      "outputs": [
        {
          "output_type": "stream",
          "name": "stdout",
          "text": [
            "Bye Bye World\n"
          ]
        }
      ]
    }
  ]
}
